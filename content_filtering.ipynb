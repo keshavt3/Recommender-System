{
 "cells": [
  {
   "cell_type": "code",
   "execution_count": 2,
   "id": "c586f535",
   "metadata": {},
   "outputs": [
    {
     "name": "stdout",
     "output_type": "stream",
     "text": [
      "Collecting scikit-learn\n",
      "  Downloading scikit_learn-1.7.2-cp312-cp312-manylinux2014_x86_64.manylinux_2_17_x86_64.whl.metadata (11 kB)\n",
      "Requirement already satisfied: numpy>=1.22.0 in ./venv/lib/python3.12/site-packages (from scikit-learn) (2.3.2)\n",
      "Requirement already satisfied: scipy>=1.8.0 in ./venv/lib/python3.12/site-packages (from scikit-learn) (1.16.1)\n",
      "Requirement already satisfied: joblib>=1.2.0 in ./venv/lib/python3.12/site-packages (from scikit-learn) (1.5.1)\n",
      "Collecting threadpoolctl>=3.1.0 (from scikit-learn)\n",
      "  Using cached threadpoolctl-3.6.0-py3-none-any.whl.metadata (13 kB)\n",
      "Downloading scikit_learn-1.7.2-cp312-cp312-manylinux2014_x86_64.manylinux_2_17_x86_64.whl (9.5 MB)\n",
      "\u001b[2K   \u001b[90m━━━━━━━━━━━━━━━━━━━━━━━━━━━━━━━━━━━━━━━━\u001b[0m \u001b[32m9.5/9.5 MB\u001b[0m \u001b[31m9.7 MB/s\u001b[0m eta \u001b[36m0:00:00\u001b[0m:00:01\u001b[0m00:01\u001b[0m\n",
      "\u001b[?25hUsing cached threadpoolctl-3.6.0-py3-none-any.whl (18 kB)\n",
      "Installing collected packages: threadpoolctl, scikit-learn\n",
      "Successfully installed scikit-learn-1.7.2 threadpoolctl-3.6.0\n",
      "Note: you may need to restart the kernel to use updated packages.\n"
     ]
    }
   ],
   "source": [
    "%pip install scikit-learn"
   ]
  },
  {
   "cell_type": "code",
   "execution_count": 1,
   "id": "5b01d695",
   "metadata": {},
   "outputs": [
    {
     "name": "stderr",
     "output_type": "stream",
     "text": [
      "2025-09-12 17:55:04.028703: I external/local_xla/xla/tsl/cuda/cudart_stub.cc:31] Could not find cuda drivers on your machine, GPU will not be used.\n",
      "2025-09-12 17:55:04.638253: I tensorflow/core/platform/cpu_feature_guard.cc:210] This TensorFlow binary is optimized to use available CPU instructions in performance-critical operations.\n",
      "To enable the following instructions: AVX2 FMA, in other operations, rebuild TensorFlow with the appropriate compiler flags.\n",
      "2025-09-12 17:55:06.275600: I external/local_xla/xla/tsl/cuda/cudart_stub.cc:31] Could not find cuda drivers on your machine, GPU will not be used.\n"
     ]
    }
   ],
   "source": [
    "import numpy as np\n",
    "import numpy.ma as ma\n",
    "import pandas as pd\n",
    "import tensorflow as tf\n",
    "from tensorflow import keras\n",
    "from sklearn.preprocessing import StandardScaler, MinMaxScaler\n",
    "from sklearn.model_selection import train_test_split\n",
    "from sklearn.feature_extraction.text import TfidfVectorizer\n",
    "from sklearn.preprocessing import MultiLabelBinarizer"
   ]
  },
  {
   "cell_type": "code",
   "execution_count": 2,
   "id": "5152b724",
   "metadata": {},
   "outputs": [],
   "source": [
    "animes_df = pd.read_csv(\"data/animes.csv\")\n",
    "ratings_df = pd.read_csv(\"data/reviews.csv\")\n",
    "profiles_df = pd.read_csv(\"data/profiles.csv\")"
   ]
  },
  {
   "cell_type": "code",
   "execution_count": 5,
   "id": "646d5f7f",
   "metadata": {},
   "outputs": [
    {
     "name": "stdout",
     "output_type": "stream",
     "text": [
      "     uid                             title  \\\n",
      "0  28891           Haikyuu!! Second Season   \n",
      "1  23273           Shigatsu wa Kimi no Uso   \n",
      "2  34599                     Made in Abyss   \n",
      "3   5114  Fullmetal Alchemist: Brotherhood   \n",
      "4  31758  Kizumonogatari III: Reiketsu-hen   \n",
      "\n",
      "                                            synopsis  \\\n",
      "0  Following their participation at the Inter-Hig...   \n",
      "1  Music accompanies the path of the human metron...   \n",
      "2  The Abyss—a gaping chasm stretching down into ...   \n",
      "3  \"In order for something to be obtained, someth...   \n",
      "4  After helping revive the legendary vampire Kis...   \n",
      "\n",
      "                                               genre  \\\n",
      "0  ['Comedy', 'Sports', 'Drama', 'School', 'Shoun...   \n",
      "1  ['Drama', 'Music', 'Romance', 'School', 'Shoun...   \n",
      "2  ['Sci-Fi', 'Adventure', 'Mystery', 'Drama', 'F...   \n",
      "3  ['Action', 'Military', 'Adventure', 'Comedy', ...   \n",
      "4   ['Action', 'Mystery', 'Supernatural', 'Vampire']   \n",
      "\n",
      "                          aired  episodes  members  popularity  ranked  score  \\\n",
      "0   Oct 4, 2015 to Mar 27, 2016      25.0   489888         141    25.0   8.82   \n",
      "1  Oct 10, 2014 to Mar 20, 2015      22.0   995473          28    24.0   8.83   \n",
      "2   Jul 7, 2017 to Sep 29, 2017      13.0   581663          98    23.0   8.83   \n",
      "3    Apr 5, 2009 to Jul 4, 2010      64.0  1615084           4     1.0   9.23   \n",
      "4                   Jan 6, 2017       1.0   214621         502    22.0   8.83   \n",
      "\n",
      "                                             img_url  \\\n",
      "0  https://cdn.myanimelist.net/images/anime/9/766...   \n",
      "1  https://cdn.myanimelist.net/images/anime/3/671...   \n",
      "2  https://cdn.myanimelist.net/images/anime/6/867...   \n",
      "3  https://cdn.myanimelist.net/images/anime/1223/...   \n",
      "4  https://cdn.myanimelist.net/images/anime/3/815...   \n",
      "\n",
      "                                                link  \n",
      "0  https://myanimelist.net/anime/28891/Haikyuu_Se...  \n",
      "1  https://myanimelist.net/anime/23273/Shigatsu_w...  \n",
      "2  https://myanimelist.net/anime/34599/Made_in_Abyss  \n",
      "3  https://myanimelist.net/anime/5114/Fullmetal_A...  \n",
      "4  https://myanimelist.net/anime/31758/Kizumonoga...  \n",
      "      uid          profile  anime_uid  \\\n",
      "0  255938   DesolatePsyche      34096   \n",
      "1  259117        baekbeans      34599   \n",
      "2  253664             skrn      28891   \n",
      "3    8254     edgewalker00       2904   \n",
      "4  291149  aManOfCulture99       4181   \n",
      "\n",
      "                                                text  score  \\\n",
      "0  \\n           \\n         \\n           \\n       ...      8   \n",
      "1  \\n           \\n         \\n           \\n       ...     10   \n",
      "2  \\n           \\n         \\n           \\n       ...      7   \n",
      "3  \\n           \\n         \\n           \\n       ...      9   \n",
      "4  \\n           \\n         \\n           \\n       ...     10   \n",
      "\n",
      "                                              scores  \\\n",
      "0  {'Overall': '8', 'Story': '8', 'Animation': '8...   \n",
      "1  {'Overall': '10', 'Story': '10', 'Animation': ...   \n",
      "2  {'Overall': '7', 'Story': '7', 'Animation': '9...   \n",
      "3  {'Overall': '9', 'Story': '9', 'Animation': '9...   \n",
      "4  {'Overall': '10', 'Story': '10', 'Animation': ...   \n",
      "\n",
      "                                            link  \n",
      "0  https://myanimelist.net/reviews.php?id=255938  \n",
      "1  https://myanimelist.net/reviews.php?id=259117  \n",
      "2  https://myanimelist.net/reviews.php?id=253664  \n",
      "3    https://myanimelist.net/reviews.php?id=8254  \n",
      "4  https://myanimelist.net/reviews.php?id=291149  \n",
      "           profile  gender      birthday  \\\n",
      "0   DesolatePsyche    Male   Oct 2, 1994   \n",
      "1        baekbeans  Female  Nov 10, 2000   \n",
      "2             skrn     NaN           NaN   \n",
      "3     edgewalker00    Male         Sep 5   \n",
      "4  aManOfCulture99    Male  Oct 30, 1999   \n",
      "\n",
      "                                     favorites_anime  \\\n",
      "0  ['33352', '25013', '5530', '33674', '1482', '2...   \n",
      "1  ['11061', '31964', '853', '20583', '918', '925...   \n",
      "2  ['918', '2904', '11741', '17074', '23273', '32...   \n",
      "3           ['5680', '849', '2904', '3588', '37349']   \n",
      "4  ['4181', '7791', '9617', '5680', '2167', '4382...   \n",
      "\n",
      "                                              link  \n",
      "0   https://myanimelist.net/profile/DesolatePsyche  \n",
      "1        https://myanimelist.net/profile/baekbeans  \n",
      "2             https://myanimelist.net/profile/skrn  \n",
      "3     https://myanimelist.net/profile/edgewalker00  \n",
      "4  https://myanimelist.net/profile/aManOfCulture99  \n"
     ]
    }
   ],
   "source": [
    "# See the first 5 rows\n",
    "print(animes_df.head())\n",
    "print(ratings_df.head())\n",
    "print(profiles_df.head())"
   ]
  },
  {
   "cell_type": "code",
   "execution_count": 16,
   "id": "6bc475ac",
   "metadata": {},
   "outputs": [
    {
     "name": "stdout",
     "output_type": "stream",
     "text": [
      "       year     score  Action  Adventure  Cars  Comedy  Dementia  Demons  \\\n",
      "0  0.997031  0.955580       0          0     0       1         0       0   \n",
      "1  0.996536  0.956663       0          0     0       0         0       0   \n",
      "2  0.998021  0.956663       0          1     0       0         0       0   \n",
      "3  0.994062  1.000000       1          1     0       1         0       0   \n",
      "4  0.998021  0.956663       1          0     0       0         0       0   \n",
      "\n",
      "   Drama  Ecchi  ...  Shounen Ai  Slice of Life  Space  Sports  Super Power  \\\n",
      "0      1      0  ...           0              0      0       1            0   \n",
      "1      1      0  ...           0              0      0       0            0   \n",
      "2      1      0  ...           0              0      0       0            0   \n",
      "3      1      0  ...           0              0      0       0            0   \n",
      "4      0      0  ...           0              0      0       0            0   \n",
      "\n",
      "   Supernatural  Thriller  Vampire  Yaoi  Yuri  \n",
      "0             0         0        0     0     0  \n",
      "1             0         0        0     0     0  \n",
      "2             0         0        0     0     0  \n",
      "3             0         0        0     0     0  \n",
      "4             1         0        1     0     0  \n",
      "\n",
      "[5 rows x 45 columns]\n"
     ]
    }
   ],
   "source": [
    "# Extract start year from aired\n",
    "animes_df[\"year\"] = animes_df[\"aired\"].str.extract(r'(\\d{4})').astype(float)\n",
    "\n",
    "# One-hot encode genres\n",
    "genre_dummies = animes_df[\"genre\"].str.join('|').str.get_dummies()\n",
    "\n",
    "# Select numeric features\n",
    "num_features = animes_df[[\"year\", \"score\"]].fillna(0)\n",
    "\n",
    "# Normalize numeric features\n",
    "scaler = MinMaxScaler()\n",
    "num_features = pd.DataFrame(\n",
    "    scaler.fit_transform(num_features),\n",
    "    columns=num_features.columns,\n",
    "    index=animes_df.index\n",
    ")\n",
    "\n",
    "# Combine everything\n",
    "item_train = pd.concat([num_features, genre_dummies], axis=1)\n",
    "print(item_train.head())"
   ]
  },
  {
   "cell_type": "code",
   "execution_count": 20,
   "id": "2aad4db1",
   "metadata": {},
   "outputs": [
    {
     "name": "stdout",
     "output_type": "stream",
     "text": [
      "{'year': 0.9946066303809996, 'score': 0.8813109425785483, 'Action': 0.4, 'Adventure': 0.4, 'Cars': 0.0, 'Comedy': 0.45, 'Dementia': 0.0, 'Demons': 0.05, 'Drama': 0.45, 'Ecchi': 0.0, 'Fantasy': 0.25, 'Game': 0.05, 'Harem': 0.05, 'Hentai': 0.0, 'Historical': 0.1, 'Horror': 0.1, 'Josei': 0.05, 'Kids': 0.0, 'Magic': 0.0, 'Martial Arts': 0.05, 'Mecha': 0.05, 'Military': 0.05, 'Music': 0.1, 'Mystery': 0.25, 'Parody': 0.0, 'Police': 0.05, 'Psychological': 0.15, 'Romance': 0.45, 'Samurai': 0.0, 'School': 0.1, 'Sci-Fi': 0.1, 'Seinen': 0.15, 'Shoujo': 0.05, 'Shoujo Ai': 0.0, 'Shounen': 0.3, 'Shounen Ai': 0.0, 'Slice of Life': 0.3, 'Space': 0.0, 'Sports': 0.0, 'Super Power': 0.15, 'Supernatural': 0.4, 'Thriller': 0.0, 'Vampire': 0.05, 'Yaoi': 0.0, 'Yuri': 0.0}\n"
     ]
    }
   ],
   "source": [
    "## --- User features ---\n",
    "import ast\n",
    "\n",
    "# Convert stringified lists to real lists of ints\n",
    "def parse_favorites(x):\n",
    "    try:\n",
    "        return [int(a) for a in ast.literal_eval(x)]\n",
    "    except:\n",
    "        return []  # fallback for malformed entries\n",
    "\n",
    "profiles_df[\"favorites_anime\"] = profiles_df[\"favorites_anime\"].apply(parse_favorites)\n",
    "# Step 2: Build user_train\n",
    "user_features = []\n",
    "# Create a mapping from anime UID to row index in item_train\n",
    "anime_id_to_idx = {uid: idx for idx, uid in enumerate(animes_df[\"uid\"])}\n",
    "\n",
    "for _, row in profiles_df.iterrows():\n",
    "    favs = row[\"favorites_anime\"]\n",
    "    \n",
    "    # Get indices of these anime in item_train\n",
    "    indices = [anime_id_to_idx[uid] for uid in favs if uid in anime_id_to_idx]\n",
    "    \n",
    "    if indices:\n",
    "        # Average features of the anime to get user preference vector\n",
    "        user_vec = item_train.iloc[indices].mean(axis=0)\n",
    "    else:\n",
    "        # If no valid favorites, use zero vector\n",
    "        user_vec = np.zeros(item_train.shape[1])\n",
    "    \n",
    "    user_features.append(user_vec)\n",
    "\n",
    "# Create user_train DataFrame\n",
    "user_train = pd.DataFrame(user_features, index=profiles_df[\"profile\"])\n",
    "print(user_train.iloc[0].to_dict())\n"
   ]
  },
  {
   "cell_type": "code",
   "execution_count": null,
   "id": "4e637918",
   "metadata": {},
   "outputs": [],
   "source": [
    "# scale training data\n",
    "item_train_unscaled = item_train.copy()\n",
    "user_train_unscaled = user_train.copy()\n",
    "y_train_unscaled    = y_train\n",
    "\n",
    "scalerItem = StandardScaler()\n",
    "scalerItem.fit(item_train)\n",
    "item_train = scalerItem.transform(item_train)\n",
    "\n",
    "scalerUser = StandardScaler()\n",
    "scalerUser.fit(user_train)\n",
    "user_train = scalerUser.transform(user_train)\n",
    "\n",
    "scalerTarget = MinMaxScaler((-1, 1))\n",
    "scalerTarget.fit(y_train.reshape(-1, 1))\n",
    "y_train = scalerTarget.transform(y_train.reshape(-1, 1))\n",
    "#ynorm_test = scalerTarget.transform(y_test.reshape(-1, 1))"
   ]
  },
  {
   "cell_type": "code",
   "execution_count": null,
   "id": "bcb19f7c",
   "metadata": {},
   "outputs": [],
   "source": [
    "item_train, item_test = train_test_split(item_train, train_size=0.80, shuffle=True, random_state=1)\n",
    "user_train, user_test = train_test_split(user_train, train_size=0.80, shuffle=True, random_state=1)\n",
    "y_train, y_test       = train_test_split(y_train,    train_size=0.80, shuffle=True, random_state=1)"
   ]
  },
  {
   "cell_type": "code",
   "execution_count": null,
   "id": "6574d605",
   "metadata": {},
   "outputs": [],
   "source": []
  }
 ],
 "metadata": {
  "kernelspec": {
   "display_name": "venv",
   "language": "python",
   "name": "python3"
  },
  "language_info": {
   "codemirror_mode": {
    "name": "ipython",
    "version": 3
   },
   "file_extension": ".py",
   "mimetype": "text/x-python",
   "name": "python",
   "nbconvert_exporter": "python",
   "pygments_lexer": "ipython3",
   "version": "3.12.3"
  }
 },
 "nbformat": 4,
 "nbformat_minor": 5
}
